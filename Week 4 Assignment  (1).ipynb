{
 "cells": [
  {
   "cell_type": "markdown",
   "id": "09511a18-e09c-46f5-9365-bae1575a4d20",
   "metadata": {},
   "source": [
    "# 1. Write a python program to check whether a string is a palindrome or not using a stack"
   ]
  },
  {
   "cell_type": "markdown",
   "id": "69320c95-48a7-4529-a505-052c4dfcde08",
   "metadata": {},
   "source": [
    "#### Palindrome is a sequence of characters that reads the same backward as forward."
   ]
  },
  {
   "cell_type": "markdown",
   "id": "b0cd2776-b750-4de1-9ecb-26727867cf5b",
   "metadata": {},
   "source": [
    "Palindrome is a sequence of characters that reads the same backward as forward.\n",
    "\n",
    "\n",
    "Steps:\n",
    "      1. Initialize an empty list stack to act as a stack.\r",
    "      2. \n",
    "Iterate through each character char in the input strin s.      3. \r\n",
    "Push each character onto the stack (stack.append(cha)      4. .\r\n",
    "Reverse the stack by iterating through it in reverse or          er and extracting each character (char      5. ).\r\n",
    "Compare the original input string s with the reversed string"
   ]
  },
  {
   "cell_type": "code",
   "execution_count": 1,
   "id": "8c2aed0f-09a1-49ad-aaf8-dc746f5e80f4",
   "metadata": {},
   "outputs": [],
   "source": [
    "def is_palindrome(s):\n",
    "    stack = []\n",
    "    for char in s:\n",
    "        stack.append(char)\n",
    "    reversed_s = ''.join(stack[::-1])\n",
    "    return s == reversed_s"
   ]
  },
  {
   "cell_type": "markdown",
   "id": "29c13c14-a87b-450a-9b6d-e06575a1a3ac",
   "metadata": {},
   "source": [
    " # 2. Explain the concept of list comprehension in python with atleast three examples"
   ]
  },
  {
   "cell_type": "markdown",
   "id": "c3fa4c6b-2be1-4601-b2f6-fc2a9f67d602",
   "metadata": {},
   "source": [
    "List comprehension is a powerful feature in Python that allows you to create a new list from an existing iterable by applying a transformation function to each element. It provides a concise and readable way to perform operations on lists, making your code more efficient and elegant."
   ]
  },
  {
   "cell_type": "markdown",
   "id": "dbf2f0d3-e7cb-4370-a4e3-7b3d4fc18635",
   "metadata": {},
   "source": [
    "1. Finding even and odd numbers: This example demonstrates how to use an if-else statement with list comprehension to categorize numbers as even or odd."
   ]
  },
  {
   "cell_type": "code",
   "execution_count": 2,
   "id": "f0951cb3-dfc0-4c1c-b91c-33772e374f85",
   "metadata": {},
   "outputs": [
    {
     "name": "stdout",
     "output_type": "stream",
     "text": [
      "['Odd', 'Even', 'Odd', 'Even', 'Odd', 'Even']\n"
     ]
    }
   ],
   "source": [
    "numbers = [1, 2, 3, 4, 5, 6]\n",
    "even_odd_list = [\"Even\" if i % 2 == 0 else \"Odd\" for i in numbers]\n",
    "print(even_odd_list)  # Output: [\"Odd\", \"Even\", \"Odd\", \"Even\", \"Odd\", \"Even\"]"
   ]
  },
  {
   "cell_type": "markdown",
   "id": "ab06f1f4-bc3f-4b72-bb80-a06832ae3456",
   "metadata": {},
   "source": [
    "2. Finding even numbers divisible by 5: This example shows how to use nested if conditions with list comprehension to filter numbers that meet multiple criteria."
   ]
  },
  {
   "cell_type": "code",
   "execution_count": 3,
   "id": "25686888-0fff-4060-9a04-7e8ee25b1754",
   "metadata": {},
   "outputs": [
    {
     "name": "stdout",
     "output_type": "stream",
     "text": [
      "[0, 10, 20, 30, 40, 50, 60, 70, 80, 90]\n"
     ]
    }
   ],
   "source": [
    "num_list = [y for y in range(100) if y % 2 == 0 if y % 5 == 0]\n",
    "print(num_list)  # Output: [10, 20, 30, 40, 50, 60, 70, 80, 90, 100]"
   ]
  },
  {
   "cell_type": "markdown",
   "id": "0443f535-bac1-4682-bb92-0a0a0fbfe5e2",
   "metadata": {},
   "source": [
    "3. Duplicating numbers: This example demonstrates how to use list comprehension to create a new list with each element doubled."
   ]
  },
  {
   "cell_type": "code",
   "execution_count": 4,
   "id": "edc9e54f-968e-4775-bb0e-80e4ca23fc02",
   "metadata": {},
   "outputs": [
    {
     "name": "stdout",
     "output_type": "stream",
     "text": [
      "[2, 4, 6, 8, 10]\n"
     ]
    }
   ],
   "source": [
    "numbers = [1, 2, 3, 4, 5]\n",
    "doubled_numbers = [num * 2 for num in numbers]\n",
    "print(doubled_numbers)  # Output: [2, 4, 6, 8, 10]"
   ]
  },
  {
   "cell_type": "markdown",
   "id": "609f0923-3c3d-4340-ae93-4fb31e15070c",
   "metadata": {},
   "source": [
    "# 3. Explain what a compound datatype is in python with three examples"
   ]
  },
  {
   "cell_type": "markdown",
   "id": "1454d47f-f5a1-4e56-991c-e1eb1870196f",
   "metadata": {},
   "source": [
    "Compound datatype is a data structure that consists of multiple values or elements of different data types.These values are organized and accessed through a single identifier or name.\n",
    "\n",
    "Compound data types in Python are implemented using classes or structs, and they provide a way to group related data together, making it easier to manipulate and use.\n"
   ]
  },
  {
   "cell_type": "markdown",
   "id": "843d0837-66af-4653-a82b-de18ce49493c",
   "metadata": {},
   "source": [
    "1.Point class"
   ]
  },
  {
   "cell_type": "code",
   "execution_count": 5,
   "id": "8044519b-bf76-4de3-bb68-151eb366e05a",
   "metadata": {},
   "outputs": [
    {
     "name": "stdout",
     "output_type": "stream",
     "text": [
      "1\n",
      "2\n"
     ]
    }
   ],
   "source": [
    "\n",
    "class Point:\n",
    "    def __init__(self, x, y):\n",
    "        self.x = x\n",
    "        self.y = y\n",
    "\n",
    "p = Point(1, 2)\n",
    "print(p.x)  # Output: 1\n",
    "print(p.y)  # Output: 2"
   ]
  },
  {
   "cell_type": "markdown",
   "id": "440ecce5-718a-4430-b86b-a8eea5c9d53b",
   "metadata": {},
   "source": [
    "2. Complex Number Class"
   ]
  },
  {
   "cell_type": "code",
   "execution_count": 6,
   "id": "8bde6a75-b7ac-47d7-9808-cce7db905022",
   "metadata": {},
   "outputs": [
    {
     "name": "stdout",
     "output_type": "stream",
     "text": [
      "3\n",
      "4\n"
     ]
    }
   ],
   "source": [
    "class Complex:\n",
    "    def __init__(self, real, imag):\n",
    "        self.real = real\n",
    "        self.imag = imag\n",
    "\n",
    "c = Complex(3, 4)\n",
    "print(c.real)  # Output: 3\n",
    "print(c.imag)  # Output: 4"
   ]
  },
  {
   "cell_type": "markdown",
   "id": "8f1ed166-8c84-4101-a502-9d4e512adb1b",
   "metadata": {},
   "source": [
    "3. Student Struct"
   ]
  },
  {
   "cell_type": "code",
   "execution_count": 8,
   "id": "a2807c4e-c3c5-4f97-b013-eadc8d30f6d1",
   "metadata": {},
   "outputs": [
    {
     "name": "stdout",
     "output_type": "stream",
     "text": [
      "John Doe\n",
      "16\n",
      "[85, 90, 78]\n"
     ]
    }
   ],
   "source": [
    "class Student:\n",
    "    def __init__(self, name, age, grades):\n",
    "        self.name = name\n",
    "        self.age = age\n",
    "        self.grades = grades\n",
    "\n",
    "student = Student(\"John Doe\", 16, [85, 90, 78])\n",
    "print(student.name)  # Output: John Doe\n",
    "print(student.age)   # Output: 16\n",
    "print(student.grades)  # Output: [85, 90, 78]"
   ]
  },
  {
   "cell_type": "markdown",
   "id": "3fe8d2cd-7ee9-4fd5-9aee-5c00f7f00819",
   "metadata": {},
   "source": [
    "# 4. Write a function that takes a string and returns a list of bigarms"
   ]
  },
  {
   "cell_type": "code",
   "execution_count": null,
   "id": "4a5460c6-c466-4e1d-8f41-d695d700bc31",
   "metadata": {},
   "outputs": [],
   "source": [
    "def accumulating():\n",
    "  List = []\n",
    "  Strings = input(\"Please enter a list of strings: \")\n",
    "  List = Strings.split(\" \")\n",
    "  return List\n",
    "\n",
    "def length(n):\n",
    "  r = []\n",
    "  for i in n:\n",
    "    r.append(len(n))\n",
    "  return r\n",
    "\n",
    "def main():\n",
    "  y = accumulating()\n",
    "  x = length(y)\n",
    "  print(x)\n",
    "\n",
    "main()"
   ]
  },
  {
   "cell_type": "markdown",
   "id": "c4412513-eef7-4a4f-b7e5-e94602bf3cd5",
   "metadata": {},
   "source": [
    "# 5. Given a dictionary with keys as letters and values as list of letters, write a function closest_key to find the key with the input value closest to the beginning of the list"
   ]
  },
  {
   "cell_type": "code",
   "execution_count": null,
   "id": "73372d17-aea7-4747-b4eb-847622785faa",
   "metadata": {},
   "outputs": [],
   "source": [
    "import collections\n",
    "a = collections.OrderedDict()\n",
    "for i in range(100):\n",
    "    a[i] = i\n",
    "\n",
    "import bisect\n",
    "ind = bisect.bisect_left(a.keys(), 45.3)\n",
    "bisect.bisect_left(list(a.keys()), 45.3)"
   ]
  },
  {
   "cell_type": "code",
   "execution_count": null,
   "id": "c9ae145f-c247-487c-8133-dd4d601bd4cc",
   "metadata": {},
   "outputs": [],
   "source": []
  }
 ],
 "metadata": {
  "kernelspec": {
   "display_name": "Python 3 (ipykernel)",
   "language": "python",
   "name": "python3"
  },
  "language_info": {
   "codemirror_mode": {
    "name": "ipython",
    "version": 3
   },
   "file_extension": ".py",
   "mimetype": "text/x-python",
   "name": "python",
   "nbconvert_exporter": "python",
   "pygments_lexer": "ipython3",
   "version": "3.11.7"
  }
 },
 "nbformat": 4,
 "nbformat_minor": 5
}
